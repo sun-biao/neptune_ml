{
 "cells": [
  {
   "cell_type": "code",
   "execution_count": 2,
   "id": "ca56d374",
   "metadata": {},
   "outputs": [],
   "source": [
    "%%bash\n",
    "export host=database-1.cluster-czfb3bjo566o.ap-northeast-1.neptune.amazonaws.com\n",
    "export port=8182"
   ]
  },
  {
   "cell_type": "code",
   "execution_count": 92,
   "id": "abcb004c",
   "metadata": {},
   "outputs": [
    {
     "name": "stdout",
     "output_type": "stream",
     "text": [
      "This Neptune cluster is configured to use Neptune ML\n"
     ]
    }
   ],
   "source": [
    "import neptune_ml_utils as neptune_ml\n",
    "neptune_ml.check_ml_enabled()"
   ]
  },
  {
   "cell_type": "code",
   "execution_count": 93,
   "id": "b1acda0b",
   "metadata": {},
   "outputs": [
    {
     "data": {
      "text/plain": [
       "('database-1.cluster-czfb3bjo566o.ap-northeast-1.neptune.amazonaws.com',\n",
       " 8182,\n",
       " False)"
      ]
     },
     "execution_count": 93,
     "metadata": {},
     "output_type": "execute_result"
    }
   ],
   "source": [
    "neptune_ml.load_configuration()"
   ]
  },
  {
   "cell_type": "code",
   "execution_count": 94,
   "id": "108cd44b",
   "metadata": {},
   "outputs": [],
   "source": [
    "s3_bucket_uri=\"s3://ai-datalab-sunbiao/nepdata/\"\n",
    "# remove trailing slashes\n",
    "s3_bucket_uri = s3_bucket_uri[:-1] if s3_bucket_uri.endswith('/') else s3_bucket_uri"
   ]
  },
  {
   "cell_type": "markdown",
   "id": "9ffa8426",
   "metadata": {},
   "source": [
    "setup_node_classification=True\n",
    "setup_node_regression=False\n",
    "setup_link_prediction=False\n",
    "setup_edge_classification=False\n",
    "setup_edge_regression=False\n",
    "\n",
    "endpoints=neptune_ml.setup_pretrained_endpoints(s3_bucket_uri, setup_node_classification, setup_node_regression, setup_link_prediction, setup_edge_classification, setup_edge_regression)"
   ]
  },
  {
   "cell_type": "markdown",
   "id": "1a854906",
   "metadata": {},
   "source": [
    "node_classification_endpoint=endpoints['node_classification_endpoint_name']['EndpointName']"
   ]
  },
  {
   "cell_type": "code",
   "execution_count": 91,
   "id": "c064a86b",
   "metadata": {},
   "outputs": [
    {
     "data": {
      "application/vnd.jupyter.widget-view+json": {
       "model_id": "b8e93339f5e346bea0117e34655821e1",
       "version_major": 2,
       "version_minor": 0
      },
      "text/plain": [
       "Tab(children=(Output(layout=Layout(max_height='600px', overflow='scroll', width='100%')), Output(layout=Layout…"
      ]
     },
     "metadata": {},
     "output_type": "display_data"
    }
   ],
   "source": [
    "%%gremlin\n",
    "\n",
    "g.V().where(__.hasNot('address_type')).group().by(both().count()).by(count())"
   ]
  },
  {
   "cell_type": "code",
   "execution_count": 26,
   "id": "e502468b",
   "metadata": {},
   "outputs": [
    {
     "data": {
      "application/vnd.jupyter.widget-view+json": {
       "model_id": "b6fa3d814e944a7285cfc651c7c093c4",
       "version_major": 2,
       "version_minor": 0
      },
      "text/plain": [
       "Tab(children=(Output(layout=Layout(max_height='600px', overflow='scroll', width='100%')), Output(layout=Layout…"
      ]
     },
     "metadata": {},
     "output_type": "display_data"
    }
   ],
   "source": [
    "%%gremlin \n",
    "g.V().and(__.hasNot('address_type'),__.both().count().is(893)).valueMap(true).limit(10)"
   ]
  },
  {
   "cell_type": "code",
   "execution_count": 9,
   "id": "8c2c5792",
   "metadata": {},
   "outputs": [],
   "source": [
    "my_node_labels_b = '{\"vertex\":\"name\"}'\n",
    "my_edge_labels_b = '{\"payto\":\"tx_amt\"}'"
   ]
  },
  {
   "cell_type": "code",
   "execution_count": 130,
   "id": "9e157c34",
   "metadata": {},
   "outputs": [
    {
     "data": {
      "application/vnd.jupyter.widget-view+json": {
       "model_id": "f18e8cceef5b4ab7bb177ad69131fa4b",
       "version_major": 2,
       "version_minor": 0
      },
      "text/plain": [
       "Tab(children=(Output(layout=Layout(max_height='600px', overflow='scroll', width='100%')), Force(network=<graph…"
      ]
     },
     "metadata": {},
     "output_type": "display_data"
    }
   ],
   "source": [
    "%%gremlin -p v,outv -d $my_node_labels_b \n",
    "g.V('TAUN6FwrnwwmaEqYcckffC7wYmbaS6cBiX')\n",
    " .repeat(both())\n",
    " .until(outE().count().is(0))\n",
    " .path().by(T.id).limit(1000)"
   ]
  },
  {
   "cell_type": "code",
   "execution_count": 31,
   "id": "89068a1e",
   "metadata": {},
   "outputs": [
    {
     "data": {
      "application/vnd.jupyter.widget-view+json": {
       "model_id": "ffd44efb6ec14100a3e829472d55cb0c",
       "version_major": 2,
       "version_minor": 0
      },
      "text/plain": [
       "Tab(children=(Output(layout=Layout(max_height='600px', overflow='scroll', width='100%')), Force(network=<graph…"
      ]
     },
     "metadata": {},
     "output_type": "display_data"
    }
   ],
   "source": [
    "%%gremlin -p v,oute,inv  -de $my_edge_labels_b\n",
    "g.V('TAUN6FwrnwwmaEqYcckffC7wYmbaS6cBiX').outE().inV().path().by(valueMap(true)).limit(1000)"
   ]
  },
  {
   "cell_type": "code",
   "execution_count": 1,
   "id": "a3c13beb",
   "metadata": {},
   "outputs": [
    {
     "data": {
      "application/vnd.jupyter.widget-view+json": {
       "model_id": "a2428ef47ba4431ba768a03e108459d4",
       "version_major": 2,
       "version_minor": 0
      },
      "text/plain": [
       "Tab(children=(Output(layout=Layout(max_height='600px', overflow='scroll', width='100%')), Output(layout=Layout…"
      ]
     },
     "metadata": {},
     "output_type": "display_data"
    }
   ],
   "source": [
    "%%gremlin\n",
    "g.V('TQBPvuuUTXpqM5avu6Kt1crnT4DwC18Uax').properties(\"address_type\").value()"
   ]
  },
  {
   "cell_type": "code",
   "execution_count": 25,
   "id": "910c65f5",
   "metadata": {},
   "outputs": [
    {
     "data": {
      "application/vnd.jupyter.widget-view+json": {
       "model_id": "31f406f20aa949e5b192479f0b0874d1",
       "version_major": 2,
       "version_minor": 0
      },
      "text/plain": [
       "Tab(children=(Output(layout=Layout(max_height='600px', overflow='scroll', width='100%')), Output(layout=Layout…"
      ]
     },
     "metadata": {},
     "output_type": "display_data"
    }
   ],
   "source": [
    "%%gremlin\n",
    "g.V().has('address_type').groupCount().by('address_type').unfold().order().by(keys)"
   ]
  },
  {
   "cell_type": "code",
   "execution_count": 208,
   "id": "bec2cd70",
   "metadata": {},
   "outputs": [
    {
     "data": {
      "application/vnd.jupyter.widget-view+json": {
       "model_id": "554846eef5694da4ab0caa4c2f3bf8b5",
       "version_major": 2,
       "version_minor": 0
      },
      "text/plain": [
       "Tab(children=(Output(layout=Layout(max_height='600px', overflow='scroll', width='100%')), Output(layout=Layout…"
      ]
     },
     "metadata": {},
     "output_type": "display_data"
    }
   ],
   "source": [
    "%%gremlin\n",
    "g.V().groupCount().by(label).unfold().order().by(keys)"
   ]
  },
  {
   "cell_type": "code",
   "execution_count": 209,
   "id": "0c0a4ff4",
   "metadata": {},
   "outputs": [],
   "source": [
    "export_params={ \n",
    "\"command\": \"export-pg\", \n",
    "\"params\": { \"endpoint\": neptune_ml.get_host(),\n",
    "            \"profile\": \"neptune_ml\",\n",
    "            \"useIamAuth\": neptune_ml.get_iam(),\n",
    "            \"cloneCluster\": False\n",
    "            }, \n",
    "\"outputS3Path\": f'{s3_bucket_uri}/neptune-export',\n",
    "\"additionalParams\": {\n",
    "        \"neptune_ml\": {\n",
    "          \"version\": \"v2.0\",\n",
    "          \"targets\": [\n",
    "            {\n",
    "              \"node\": \"cryp_add\",\n",
    "              \"property\": \"address_type\",\n",
    "              \"type\": \"classification\"\n",
    "            }\n",
    "          ],\n",
    "         \"features\": [\n",
    "         {\n",
    "                \"node\": \"Address\",\n",
    "                \"property\": \"name\",\n",
    "                \"type\": \"text_word2vec\"\n",
    "            }\n",
    "         ]\n",
    "        }\n",
    "      },\n",
    "\"jobSize\": \"medium\"}"
   ]
  },
  {
   "cell_type": "markdown",
   "id": "7c5fefe0",
   "metadata": {},
   "source": [
    "这里把neptune里的vertex数据删除掉，用来作为训练数据，导出后再恢复"
   ]
  },
  {
   "cell_type": "code",
   "execution_count": 98,
   "id": "e03f2af9",
   "metadata": {},
   "outputs": [
    {
     "data": {
      "application/vnd.jupyter.widget-view+json": {
       "model_id": "8cd5f6f7bebc4b619005425c25b0edfb",
       "version_major": 2,
       "version_minor": 0
      },
      "text/plain": [
       "Tab(children=(Output(layout=Layout(max_height='600px', overflow='scroll', width='100%')), Output(layout=Layout…"
      ]
     },
     "metadata": {},
     "output_type": "display_data"
    }
   ],
   "source": [
    "%%gremlin\n",
    "g.V().hasLabel('vertex').drop()"
   ]
  },
  {
   "cell_type": "code",
   "execution_count": 61,
   "id": "20c4d351",
   "metadata": {},
   "outputs": [
    {
     "data": {
      "application/vnd.jupyter.widget-view+json": {
       "model_id": "3ae1eae3c546476399245bc1020ccd39",
       "version_major": 2,
       "version_minor": 0
      },
      "text/plain": [
       "Tab(children=(Output(layout=Layout(max_height='600px', overflow='scroll', width='100%')), Output(layout=Layout…"
      ]
     },
     "metadata": {},
     "output_type": "display_data"
    }
   ],
   "source": [
    "%%gremlin\n",
    "g.V().groupCount().by(label).unfold().order().by(keys)"
   ]
  },
  {
   "cell_type": "code",
   "execution_count": 103,
   "id": "65d778de",
   "metadata": {},
   "outputs": [
    {
     "data": {
      "application/vnd.jupyter.widget-view+json": {
       "model_id": "56901497e52344fc91af37f0b0171de7",
       "version_major": 2,
       "version_minor": 0
      },
      "text/plain": [
       "Tab(children=(Output(layout=Layout(max_height='600px', overflow='scroll', width='100%')), Force(network=<graph…"
      ]
     },
     "metadata": {},
     "output_type": "display_data"
    }
   ],
   "source": [
    "%%gremlin\n",
    "g.V('TAUN6FwrnwwmaEqYcckffC7wYmbaS6cBiX').valueMap(true)"
   ]
  },
  {
   "cell_type": "code",
   "execution_count": 210,
   "id": "3a804782",
   "metadata": {},
   "outputs": [
    {
     "data": {
      "application/vnd.jupyter.widget-view+json": {
       "model_id": "abc0c119537b43c6bf287b853350dfb2",
       "version_major": 2,
       "version_minor": 0
      },
      "text/plain": [
       "Output()"
      ]
     },
     "metadata": {},
     "output_type": "display_data"
    }
   ],
   "source": [
    "%%neptune_ml export start --export-url evdwysbwg3.execute-api.ap-northeast-1.amazonaws.com/v1 --export-iam --wait --store-to export_results\n",
    "${export_params}"
   ]
  },
  {
   "cell_type": "code",
   "execution_count": 211,
   "id": "e2eb5fe2",
   "metadata": {},
   "outputs": [
    {
     "name": "stdout",
     "output_type": "stream",
     "text": [
      "node-classification-1636723249\n"
     ]
    }
   ],
   "source": [
    "# The training_job_name can be set to a unique value below, otherwise one will be auto generated\n",
    "training_job_name=neptune_ml.get_training_job_name('node-classification')\n",
    "print(training_job_name)\n",
    "processing_params = f\"\"\"\n",
    "--config-file-name training-data-configuration.json\n",
    "--job-id {training_job_name} \n",
    "--s3-input-uri {export_results['outputS3Uri']} \n",
    "--s3-processed-uri {str(s3_bucket_uri)}/preloading \"\"\""
   ]
  },
  {
   "cell_type": "code",
   "execution_count": 212,
   "id": "06b486aa",
   "metadata": {},
   "outputs": [
    {
     "data": {
      "application/vnd.jupyter.widget-view+json": {
       "model_id": "6a021bc6225f4bf29cc5c7dddcfb0843",
       "version_major": 2,
       "version_minor": 0
      },
      "text/plain": [
       "Output()"
      ]
     },
     "metadata": {},
     "output_type": "display_data"
    }
   ],
   "source": [
    "%neptune_ml dataprocessing start --wait --store-to processing_results {processing_params}"
   ]
  },
  {
   "cell_type": "code",
   "execution_count": 213,
   "id": "7eb857a6",
   "metadata": {},
   "outputs": [],
   "source": [
    "training_params=f\"\"\"\n",
    "--job-id {training_job_name}\n",
    "--data-processing-id {training_job_name} \n",
    "--instance-type ml.g4dn.2xlarge\n",
    "--s3-output-uri {str(s3_bucket_uri)}/training\n",
    "--max-hpo-number 2\n",
    "--max-hpo-parallel 2 \"\"\""
   ]
  },
  {
   "cell_type": "code",
   "execution_count": 214,
   "id": "0b599e9c",
   "metadata": {},
   "outputs": [
    {
     "data": {
      "application/vnd.jupyter.widget-view+json": {
       "model_id": "c0f18b4ef54740a6aeb9b0f4930033a5",
       "version_major": 2,
       "version_minor": 0
      },
      "text/plain": [
       "Output()"
      ]
     },
     "metadata": {},
     "output_type": "display_data"
    }
   ],
   "source": [
    "%neptune_ml training start --wait --store-to training_results {training_params}"
   ]
  },
  {
   "cell_type": "code",
   "execution_count": 216,
   "id": "a40748e4",
   "metadata": {},
   "outputs": [],
   "source": [
    "endpoint_params=f\"\"\"\n",
    "--job-id {training_job_name} \n",
    "--model-training-job-id {training_job_name} \"\"\""
   ]
  },
  {
   "cell_type": "code",
   "execution_count": 217,
   "id": "3a7eaaa2",
   "metadata": {},
   "outputs": [
    {
     "data": {
      "application/vnd.jupyter.widget-view+json": {
       "model_id": "e5cbb44657844f6fa9403701ef735809",
       "version_major": 2,
       "version_minor": 0
      },
      "text/plain": [
       "Output()"
      ]
     },
     "metadata": {},
     "output_type": "display_data"
    }
   ],
   "source": [
    "#\n",
    "%neptune_ml endpoint create --wait --store-to endpoint_results {endpoint_params}"
   ]
  },
  {
   "cell_type": "markdown",
   "id": "3a9a7ef7",
   "metadata": {},
   "source": []
  },
  {
   "cell_type": "code",
   "execution_count": 110,
   "id": "743e48ee",
   "metadata": {},
   "outputs": [
    {
     "name": "stdout",
     "output_type": "stream",
     "text": [
      "{\"id\":\"sunbiao-endpoint-202111121313\"}"
     ]
    },
    {
     "name": "stderr",
     "output_type": "stream",
     "text": [
      "  % Total    % Received % Xferd  Average Speed   Time    Time     Time  Current\n",
      "                                 Dload  Upload   Total   Spent    Left  Speed\n",
      "100   160  100    38  100   122     20     64  0:00:01  0:00:01 --:--:--    84\n"
     ]
    }
   ],
   "source": [
    "#这个和上面的create方法都可以\n",
    "%%bash\n",
    "curl \\\n",
    "  -X POST https://database-1.cluster-czfb3bjo566o.ap-northeast-1.neptune.amazonaws.com:8182/ml/endpoints \\\n",
    "  -H 'Content-Type: application/json' \\\n",
    "  -d '{\n",
    "        \"id\" : \"sunbiao-endpoint-202111121413\",\n",
    "        \"mlModelTrainingJobId\": \"node-classification-1636695309\"\n",
    "      }'"
   ]
  },
  {
   "cell_type": "code",
   "execution_count": 218,
   "id": "37ac1627",
   "metadata": {},
   "outputs": [
    {
     "name": "stdout",
     "output_type": "stream",
     "text": [
      "node-cla-2021-11-12-13-41-2310000-endpoint\n"
     ]
    }
   ],
   "source": [
    "endpoint = endpoint_results['endpoint']['name']\n",
    "print(endpoint)"
   ]
  },
  {
   "cell_type": "code",
   "execution_count": 2,
   "id": "e3c48b2d",
   "metadata": {},
   "outputs": [],
   "source": [
    "endpoint = \"node-cla-2021-11-12-13-41-2310000-endpoint\""
   ]
  },
  {
   "cell_type": "markdown",
   "id": "fa9a8f4d",
   "metadata": {},
   "source": [
    "ok，首先drop一个exchange 的属性查看是否能够得出正确结果"
   ]
  },
  {
   "cell_type": "code",
   "execution_count": null,
   "id": "51376668",
   "metadata": {},
   "outputs": [],
   "source": [
    "%%gremlin\n",
    "g.V().where(__.outE().count().is(gt(200))).limit(10).valueMap()"
   ]
  },
  {
   "cell_type": "code",
   "execution_count": 225,
   "id": "b981ba68",
   "metadata": {},
   "outputs": [
    {
     "data": {
      "application/vnd.jupyter.widget-view+json": {
       "model_id": "ce30d54ce5884d18acfb23608292d85b",
       "version_major": 2,
       "version_minor": 0
      },
      "text/plain": [
       "Tab(children=(Output(layout=Layout(max_height='600px', overflow='scroll', width='100%')), Force(network=<graph…"
      ]
     },
     "metadata": {},
     "output_type": "display_data"
    }
   ],
   "source": [
    "%%gremlin \n",
    "g.V().and(__.hasNot('address_type'),__.inE().count().is(gt(2000))).valueMap(true).limit(10)"
   ]
  },
  {
   "cell_type": "code",
   "execution_count": 81,
   "id": "9dc26d47",
   "metadata": {},
   "outputs": [
    {
     "data": {
      "application/vnd.jupyter.widget-view+json": {
       "model_id": "f2c05ab86634443ca7905f857ca7af55",
       "version_major": 2,
       "version_minor": 0
      },
      "text/plain": [
       "Tab(children=(Output(layout=Layout(max_height='600px', overflow='scroll', width='100%')), Force(network=<graph…"
      ]
     },
     "metadata": {},
     "output_type": "display_data"
    }
   ],
   "source": [
    "%%gremlin\n",
    "g.V().where(__.label().count().is(1)).limit(10).valueMap(true)"
   ]
  },
  {
   "cell_type": "code",
   "execution_count": 155,
   "id": "1e0f09bb",
   "metadata": {},
   "outputs": [
    {
     "data": {
      "application/vnd.jupyter.widget-view+json": {
       "model_id": "e525ef2be5164ad4b66ef780140573ab",
       "version_major": 2,
       "version_minor": 0
      },
      "text/plain": [
       "Tab(children=(Output(layout=Layout(max_height='600px', overflow='scroll', width='100%')), Output(layout=Layout…"
      ]
     },
     "metadata": {},
     "output_type": "display_data"
    }
   ],
   "source": [
    "%%gremlin\n",
    "g.V('TAUN6FwrnwwmaEqYcckffC7wYmbaS6cBiX').properties(\"address_type\").drop()\n",
    "g.V('TAUN6FwrnwwmaEqYcckffC7wYmbaS6cBiX').valueMap()"
   ]
  },
  {
   "cell_type": "code",
   "execution_count": 3,
   "id": "48b1321e",
   "metadata": {},
   "outputs": [
    {
     "data": {
      "application/vnd.jupyter.widget-view+json": {
       "model_id": "c11ef4ec42dc4ae3a51088d91af24857",
       "version_major": 2,
       "version_minor": 0
      },
      "text/plain": [
       "Tab(children=(Output(layout=Layout(max_height='600px', overflow='scroll', width='100%')), Output(layout=Layout…"
      ]
     },
     "metadata": {},
     "output_type": "display_data"
    }
   ],
   "source": [
    "%%gremlin\n",
    "g.with(\"Neptune#ml.endpoint\",\"${endpoint}\").\n",
    "  V('TYbT3dBgQMfKyb4BpDAdHqtF1zteayQVeF').properties(\"address_type\").with(\"Neptune#ml.classification\").value()"
   ]
  },
  {
   "cell_type": "code",
   "execution_count": null,
   "id": "79741457",
   "metadata": {},
   "outputs": [],
   "source": [
    "%%gremlin\n",
    "g.with(\"Neptune#ml.endpoint\",\"${endpoint}\").\n",
    "    with(\"Neptune#ml.limit\", 2).\n",
    "    V().hasNot('address_type').\n",
    "    project('name', 'predicted_type').\n",
    "        by('name').\n",
    "        by(properties(\"address_type\").with(\"Neptune#ml.classification\").value().fold()).\n",
    "    order(local).by(keys, desc)"
   ]
  },
  {
   "cell_type": "code",
   "execution_count": 4,
   "id": "d6b2f0c0",
   "metadata": {},
   "outputs": [
    {
     "data": {
      "application/vnd.jupyter.widget-view+json": {
       "model_id": "7e8bb7481463420ba57200c66d5cc382",
       "version_major": 2,
       "version_minor": 0
      },
      "text/plain": [
       "Tab(children=(Output(layout=Layout(max_height='600px', overflow='scroll', width='100%')), Force(network=<graph…"
      ]
     },
     "metadata": {},
     "output_type": "display_data"
    }
   ],
   "source": [
    "%%gremlin\n",
    "g.with(\"Neptune#ml.endpoint\",\"${endpoint}\").\n",
    "  with(\"Neptune#ml.threshold\", 0.7D).\n",
    "    V().and(__.hasNot('address_type'),__.properties(\"address_type\").with(\"Neptune#ml.classification\").value().is('Exchange')).valueMap(true).limit(20)"
   ]
  },
  {
   "cell_type": "code",
   "execution_count": null,
   "id": "23c9f85d",
   "metadata": {},
   "outputs": [],
   "source": [
    "%%gremlin\n",
    "g.with(\"Neptune#ml.endpoint\",\"${endpoint}\").\n",
    "  V('TFp13UQaBqSBEGEUmD7LmFBHc3AuGPgtRH').properties(\"address_type\").with(\"Neptune#ml.classification\").value()"
   ]
  },
  {
   "cell_type": "code",
   "execution_count": 245,
   "id": "43c450f4",
   "metadata": {},
   "outputs": [
    {
     "data": {
      "application/vnd.jupyter.widget-view+json": {
       "model_id": "446db38ac0c147ea8756b30c48448045",
       "version_major": 2,
       "version_minor": 0
      },
      "text/plain": [
       "Tab(children=(Output(layout=Layout(max_height='600px', overflow='scroll', width='100%')), Force(network=<graph…"
      ]
     },
     "metadata": {},
     "output_type": "display_data"
    }
   ],
   "source": [
    "%%gremlin -p v,ine,outv  -de $my_edge_labels_b\n",
    "g.V('TFp13UQaBqSBEGEUmD7LmFBHc3AuGPgtRH').inE().outV().path().by(valueMap(true)).limit(1000)"
   ]
  },
  {
   "cell_type": "code",
   "execution_count": 52,
   "id": "f8048262",
   "metadata": {},
   "outputs": [
    {
     "name": "stdout",
     "output_type": "stream",
     "text": [
      "# .bashrc\n",
      "\n",
      "# Source global definitions\n",
      "if [ -f /etc/bashrc ]; then\n",
      "\t. /etc/bashrc\n",
      "fi\n",
      "\n",
      "# User specific aliases and functions\n",
      "\n",
      "# >>> conda initialize >>>\n",
      "# !! Contents within this block are managed by 'conda init' !!\n",
      "__conda_setup=\"$('/home/ec2-user/anaconda3/bin/conda' 'shell.bash' 'hook' 2> /dev/null)\"\n",
      "if [ $? -eq 0 ]; then\n",
      "    eval \"$__conda_setup\"\n",
      "else\n",
      "    if [ -f \"/home/ec2-user/anaconda3/etc/profile.d/conda.sh\" ]; then\n",
      "        . \"/home/ec2-user/anaconda3/etc/profile.d/conda.sh\"\n",
      "    else\n",
      "        export PATH=\"/home/ec2-user/anaconda3/bin:$PATH\"\n",
      "    fi\n",
      "fi\n",
      "unset __conda_setup\n",
      "# <<< conda initialize <<<\n",
      "\n",
      "export GRAPH_NOTEBOOK_AUTH_MODE=DEFAULT\n",
      "export GRAPH_NOTEBOOK_HOST=database-1.cluster-czfb3bjo566o.ap-northeast-1.neptune.amazonaws.com\n",
      "export GRAPH_NOTEBOOK_PORT=8182\n",
      "export NEPTUNE_LOAD_FROM_S3_ROLE_ARN=\n",
      "export AWS_REGION=ap-northeast-1\n"
     ]
    }
   ],
   "source": [
    "%%bash\n",
    "cat ~/.bashrc"
   ]
  },
  {
   "cell_type": "code",
   "execution_count": 117,
   "id": "4fcf7316",
   "metadata": {},
   "outputs": [
    {
     "data": {
      "application/vnd.jupyter.widget-view+json": {
       "model_id": "cc983082cb2d4c03816a7b3339753f0e",
       "version_major": 2,
       "version_minor": 0
      },
      "text/plain": [
       "Tab(children=(Output(layout=Layout(max_height='600px', overflow='scroll', width='100%')), Force(network=<graph…"
      ]
     },
     "metadata": {},
     "output_type": "display_data"
    }
   ],
   "source": [
    "%%gremlin\n",
    "g.V().where(__.hasNot('address_type')).limit(100).valueMap(true)"
   ]
  },
  {
   "cell_type": "code",
   "execution_count": 207,
   "id": "57526dc9",
   "metadata": {},
   "outputs": [
    {
     "name": "stdout",
     "output_type": "stream",
     "text": [
      "{\n",
      "    \"status\" : \"200 OK\",\n",
      "    \"payload\" : {\n",
      "        \"loadId\" : \"6824910f-3ccf-46c2-9a0a-3779a9b35a32\"\n",
      "    }\n",
      "}"
     ]
    },
    {
     "name": "stderr",
     "output_type": "stream",
     "text": [
      "  % Total    % Received % Xferd  Average Speed   Time    Time     Time  Current\n",
      "                                 Dload  Upload   Total   Spent    Left  Speed\n",
      "100   483  100   110  100   373    447   1516 --:--:-- --:--:-- --:--:--  1963\n"
     ]
    }
   ],
   "source": [
    "%%bash\n",
    "\n",
    "curl -X POST \\\n",
    "    -H 'Content-Type: application/json' \\\n",
    "    https://database-1.cluster-czfb3bjo566o.ap-northeast-1.neptune.amazonaws.com:8182/loader -d '\n",
    "    {\n",
    "      \"source\" : \"s3://ai-datalab-sunbiao/nepdata/neponelabel\",\n",
    "      \"format\" : \"csv\",\n",
    "      \"iamRoleArn\" : \"arn:aws:iam::240778039237:role/neptunes3\",\n",
    "      \"region\" : \"ap-northeast-1\",\n",
    "      \"failOnError\" : \"FALSE\",\n",
    "      \"parallelism\" : \"MEDIUM\",\n",
    "      \"updateSingleCardinalityProperties\" : \"FALSE\",\n",
    "      \"queueRequest\" : \"TRUE\",\n",
    "      \"dependencies\" : []\n",
    "    }'"
   ]
  },
  {
   "cell_type": "code",
   "execution_count": 124,
   "id": "c4879e41",
   "metadata": {},
   "outputs": [
    {
     "data": {
      "application/vnd.jupyter.widget-view+json": {
       "model_id": "412d540c84364dcbb719962b156dbca5",
       "version_major": 2,
       "version_minor": 0
      },
      "text/plain": [
       "HBox(children=(Label(value='Source:', layout=Layout(display='flex', justify_content='flex-end', width='16%')),…"
      ]
     },
     "metadata": {},
     "output_type": "display_data"
    },
    {
     "data": {
      "application/vnd.jupyter.widget-view+json": {
       "model_id": "39ecd7fa0ec044139077ad1c05efe614",
       "version_major": 2,
       "version_minor": 0
      },
      "text/plain": [
       "HBox(children=(Label(value='Format:', layout=Layout(display='flex', justify_content='flex-end', width='16%')),…"
      ]
     },
     "metadata": {},
     "output_type": "display_data"
    },
    {
     "data": {
      "application/vnd.jupyter.widget-view+json": {
       "model_id": "200e7a5a0013493fb01ef41e0d383e80",
       "version_major": 2,
       "version_minor": 0
      },
      "text/plain": [
       "HBox(children=(Label(value='Region:', layout=Layout(display='flex', justify_content='flex-end', width='16%')),…"
      ]
     },
     "metadata": {},
     "output_type": "display_data"
    },
    {
     "data": {
      "application/vnd.jupyter.widget-view+json": {
       "model_id": "dffee859b0ac4afc879396ddf6f2b092",
       "version_major": 2,
       "version_minor": 0
      },
      "text/plain": [
       "HBox(children=(Label(value='Load ARN:', layout=Layout(display='flex', justify_content='flex-end', width='16%')…"
      ]
     },
     "metadata": {},
     "output_type": "display_data"
    },
    {
     "data": {
      "application/vnd.jupyter.widget-view+json": {
       "model_id": "d1adb1ac274940d88ac2e203230fc007",
       "version_major": 2,
       "version_minor": 0
      },
      "text/plain": [
       "HBox(children=(Label(value='Mode:', layout=Layout(display='flex', justify_content='flex-end', width='16%')), D…"
      ]
     },
     "metadata": {},
     "output_type": "display_data"
    },
    {
     "data": {
      "application/vnd.jupyter.widget-view+json": {
       "model_id": "55fe3c5184a94903a4359fab64003577",
       "version_major": 2,
       "version_minor": 0
      },
      "text/plain": [
       "HBox(children=(Label(value='Fail on Error:', layout=Layout(display='flex', justify_content='flex-end', width='…"
      ]
     },
     "metadata": {},
     "output_type": "display_data"
    },
    {
     "data": {
      "application/vnd.jupyter.widget-view+json": {
       "model_id": "a748ae7ab8ac47019bf199fbefb8a3a2",
       "version_major": 2,
       "version_minor": 0
      },
      "text/plain": [
       "HBox(children=(Label(value='Parallelism:', layout=Layout(display='flex', justify_content='flex-end', width='16…"
      ]
     },
     "metadata": {},
     "output_type": "display_data"
    },
    {
     "data": {
      "application/vnd.jupyter.widget-view+json": {
       "model_id": "0ca2f7774d9f429190d976779bd40526",
       "version_major": 2,
       "version_minor": 0
      },
      "text/plain": [
       "HBox(children=(Label(value='Update Single Cardinality:', layout=Layout(display='flex', justify_content='flex-e…"
      ]
     },
     "metadata": {},
     "output_type": "display_data"
    },
    {
     "data": {
      "application/vnd.jupyter.widget-view+json": {
       "model_id": "79e1b4ecbeae40d9b6a7b2f25a91ee7b",
       "version_major": 2,
       "version_minor": 0
      },
      "text/plain": [
       "HBox(children=(Label(value='Queue Request:', layout=Layout(display='flex', justify_content='flex-end', width='…"
      ]
     },
     "metadata": {},
     "output_type": "display_data"
    },
    {
     "data": {
      "application/vnd.jupyter.widget-view+json": {
       "model_id": "3354c8d095824db6b9a702f81db7e085",
       "version_major": 2,
       "version_minor": 0
      },
      "text/plain": [
       "HBox(children=(Label(value='Dependencies:', layout=Layout(display='flex', justify_content='flex-end', width='1…"
      ]
     },
     "metadata": {},
     "output_type": "display_data"
    },
    {
     "data": {
      "application/vnd.jupyter.widget-view+json": {
       "model_id": "b7489a1e86884f96bbe065d729ee0474",
       "version_major": 2,
       "version_minor": 0
      },
      "text/plain": [
       "HBox(children=(Label(value='Poll Load Status:', layout=Layout(display='flex', justify_content='flex-end', widt…"
      ]
     },
     "metadata": {},
     "output_type": "display_data"
    },
    {
     "data": {
      "application/vnd.jupyter.widget-view+json": {
       "model_id": "0013da43714f45a99a63bedb28d10151",
       "version_major": 2,
       "version_minor": 0
      },
      "text/plain": [
       "HBox(children=(Label(value='User Provided Edge Ids:', layout=Layout(display='none', justify_content='flex-end'…"
      ]
     },
     "metadata": {},
     "output_type": "display_data"
    },
    {
     "data": {
      "application/vnd.jupyter.widget-view+json": {
       "model_id": "eea5766cba1b4704aa7448463ef40a7f",
       "version_major": 2,
       "version_minor": 0
      },
      "text/plain": [
       "HBox(children=(Label(value='Allow Empty Strings:', layout=Layout(display='flex', justify_content='flex-end', w…"
      ]
     },
     "metadata": {},
     "output_type": "display_data"
    },
    {
     "data": {
      "application/vnd.jupyter.widget-view+json": {
       "model_id": "78b602c830f44770b8301373c0d1872a",
       "version_major": 2,
       "version_minor": 0
      },
      "text/plain": [
       "HBox(children=(Label(value='Named Graph URI:', layout=Layout(display='none', justify_content='flex-end', width…"
      ]
     },
     "metadata": {},
     "output_type": "display_data"
    },
    {
     "data": {
      "application/vnd.jupyter.widget-view+json": {
       "model_id": "afe3c63b338e4d33b755b2fd7dde8488",
       "version_major": 2,
       "version_minor": 0
      },
      "text/plain": [
       "HBox(children=(Label(value='Base URI:', layout=Layout(display='none', justify_content='flex-end', width='16%')…"
      ]
     },
     "metadata": {},
     "output_type": "display_data"
    },
    {
     "data": {
      "application/vnd.jupyter.widget-view+json": {
       "model_id": "c616f372330242a687611e2d6812386f",
       "version_major": 2,
       "version_minor": 0
      },
      "text/plain": [
       "Button(description='Submit', style=ButtonStyle())"
      ]
     },
     "metadata": {},
     "output_type": "display_data"
    },
    {
     "data": {
      "application/vnd.jupyter.widget-view+json": {
       "model_id": "0a0c5e6788a546aa8df91288bb4a3017",
       "version_major": 2,
       "version_minor": 0
      },
      "text/plain": [
       "Output()"
      ]
     },
     "metadata": {},
     "output_type": "display_data"
    }
   ],
   "source": [
    "%load"
   ]
  },
  {
   "cell_type": "code",
   "execution_count": 206,
   "id": "332f831c",
   "metadata": {},
   "outputs": [
    {
     "data": {
      "application/vnd.jupyter.widget-view+json": {
       "model_id": "a0dbec2d48984a77998d8f91f6f8fa04",
       "version_major": 2,
       "version_minor": 0
      },
      "text/plain": [
       "Tab(children=(Output(layout=Layout(max_height='600px', overflow='scroll', width='100%')), Output(layout=Layout…"
      ]
     },
     "metadata": {},
     "output_type": "display_data"
    }
   ],
   "source": [
    "%%gremlin\n",
    "g.V().drop()"
   ]
  },
  {
   "cell_type": "code",
   "execution_count": null,
   "id": "1f8f9a6e",
   "metadata": {},
   "outputs": [],
   "source": []
  }
 ],
 "metadata": {
  "kernelspec": {
   "display_name": "Python 3",
   "language": "python",
   "name": "python3"
  },
  "language_info": {
   "codemirror_mode": {
    "name": "ipython",
    "version": 3
   },
   "file_extension": ".py",
   "mimetype": "text/x-python",
   "name": "python",
   "nbconvert_exporter": "python",
   "pygments_lexer": "ipython3",
   "version": "3.6.13"
  }
 },
 "nbformat": 4,
 "nbformat_minor": 5
}
