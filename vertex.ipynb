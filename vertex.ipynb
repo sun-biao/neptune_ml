{
 "cells": [
  {
   "cell_type": "code",
   "execution_count": 1,
   "id": "checked-contribution",
   "metadata": {},
   "outputs": [
    {
     "name": "stdout",
     "output_type": "stream",
     "text": [
      "Starting Spark application\n"
     ]
    },
    {
     "data": {
      "text/html": [
       "<table>\n",
       "<tr><th>ID</th><th>YARN Application ID</th><th>Kind</th><th>State</th><th>Spark UI</th><th>Driver log</th><th>User</th><th>Current session?</th></tr><tr><td>11</td><td>application_1615871673362_0012</td><td>pyspark</td><td>idle</td><td><a target=\"_blank\" href=\"http://ip-192-168-159-33.ap-northeast-1.compute.internal:20888/proxy/application_1615871673362_0012/\">Link</a></td><td><a target=\"_blank\" href=\"http://ip-192-168-138-221.ap-northeast-1.compute.internal:8042/node/containerlogs/container_1615871673362_0012_01_000001/livy\">Link</a></td><td>None</td><td>✔</td></tr></table>"
      ],
      "text/plain": [
       "<IPython.core.display.HTML object>"
      ]
     },
     "metadata": {},
     "output_type": "display_data"
    },
    {
     "data": {
      "application/vnd.jupyter.widget-view+json": {
       "model_id": "25b3904639a1432e96f87e92f69ac97d",
       "version_major": 2,
       "version_minor": 0
      },
      "text/plain": [
       "FloatProgress(value=0.0, bar_style='info', description='Progress:', layout=Layout(height='25px', width='50%'),…"
      ]
     },
     "metadata": {},
     "output_type": "display_data"
    },
    {
     "name": "stdout",
     "output_type": "stream",
     "text": [
      "SparkSession available as 'spark'.\n"
     ]
    },
    {
     "data": {
      "application/vnd.jupyter.widget-view+json": {
       "model_id": "d9e733d7fa0a4d659f459cd2aa636971",
       "version_major": 2,
       "version_minor": 0
      },
      "text/plain": [
       "FloatProgress(value=0.0, bar_style='info', description='Progress:', layout=Layout(height='25px', width='50%'),…"
      ]
     },
     "metadata": {},
     "output_type": "display_data"
    },
    {
     "name": "stdout",
     "output_type": "stream",
     "text": [
      "'2.4.3'"
     ]
    }
   ],
   "source": [
    "spark.version"
   ]
  },
  {
   "cell_type": "code",
   "execution_count": 2,
   "id": "inclusive-collaboration",
   "metadata": {},
   "outputs": [
    {
     "data": {
      "application/vnd.jupyter.widget-view+json": {
       "model_id": "0931748ce0ff4fff84e37da229693a3b",
       "version_major": 2,
       "version_minor": 0
      },
      "text/plain": [
       "FloatProgress(value=0.0, bar_style='info', description='Progress:', layout=Layout(height='25px', width='50%'),…"
      ]
     },
     "metadata": {},
     "output_type": "display_data"
    },
    {
     "name": "stdout",
     "output_type": "stream",
     "text": [
      "++\n",
      "||\n",
      "++\n",
      "++\n",
      "\n",
      "+--------+---------+-----------+\n",
      "|database|tableName|isTemporary|\n",
      "+--------+---------+-----------+\n",
      "| neptune|     data|      false|\n",
      "| neptune| node_add|      false|\n",
      "| neptune|     role|      false|\n",
      "+--------+---------+-----------+"
     ]
    }
   ],
   "source": [
    "spark.sql(\"use neptune\").show()\n",
    "spark.sql(\"show tables\").show()"
   ]
  },
  {
   "cell_type": "code",
   "execution_count": 23,
   "id": "waiting-voltage",
   "metadata": {},
   "outputs": [
    {
     "data": {
      "application/vnd.jupyter.widget-view+json": {
       "model_id": "",
       "version_major": 2,
       "version_minor": 0
      },
      "text/plain": [
       "FloatProgress(value=0.0, bar_style='info', description='Progress:', layout=Layout(height='25px', width='50%'),…"
      ]
     },
     "metadata": {},
     "output_type": "display_data"
    }
   ],
   "source": [
    "import sys\n",
    "sys.argv = [\"vertexgen\",\"--JOB_NAME\", \"vertexgen\"]"
   ]
  },
  {
   "cell_type": "code",
   "execution_count": 24,
   "id": "sweet-profit",
   "metadata": {},
   "outputs": [
    {
     "data": {
      "application/vnd.jupyter.widget-view+json": {
       "model_id": "",
       "version_major": 2,
       "version_minor": 0
      },
      "text/plain": [
       "FloatProgress(value=0.0, bar_style='info', description='Progress:', layout=Layout(height='25px', width='50%'),…"
      ]
     },
     "metadata": {},
     "output_type": "display_data"
    }
   ],
   "source": [
    "import sys\n",
    "from awsglue.transforms import *\n",
    "from awsglue.utils import getResolvedOptions\n",
    "from pyspark.context import SparkContext\n",
    "from awsglue.context import GlueContext\n",
    "from awsglue.job import Job\n",
    "import boto3, json"
   ]
  },
  {
   "cell_type": "code",
   "execution_count": 25,
   "id": "gentle-nepal",
   "metadata": {},
   "outputs": [
    {
     "data": {
      "application/vnd.jupyter.widget-view+json": {
       "model_id": "",
       "version_major": 2,
       "version_minor": 0
      },
      "text/plain": [
       "FloatProgress(value=0.0, bar_style='info', description='Progress:', layout=Layout(height='25px', width='50%'),…"
      ]
     },
     "metadata": {},
     "output_type": "display_data"
    },
    {
     "name": "stdout",
     "output_type": "stream",
     "text": [
      "vertexgen START..."
     ]
    }
   ],
   "source": [
    "args = getResolvedOptions(sys.argv, ['JOB_NAME'])\n",
    "print (args['JOB_NAME']+\" START...\")"
   ]
  },
  {
   "cell_type": "code",
   "execution_count": 26,
   "id": "irish-teddy",
   "metadata": {},
   "outputs": [
    {
     "data": {
      "application/vnd.jupyter.widget-view+json": {
       "model_id": "",
       "version_major": 2,
       "version_minor": 0
      },
      "text/plain": [
       "FloatProgress(value=0.0, bar_style='info', description='Progress:', layout=Layout(height='25px', width='50%'),…"
      ]
     },
     "metadata": {},
     "output_type": "display_data"
    }
   ],
   "source": [
    "if 'sc' not in vars(): sc = SparkContext()\n",
    "glueContext = GlueContext(SparkContext.getOrCreate())\n",
    "spark = glueContext.spark_session\n",
    "job = Job(glueContext)\n",
    "job.init(args['JOB_NAME'], args)"
   ]
  },
  {
   "cell_type": "code",
   "execution_count": 27,
   "id": "tired-maple",
   "metadata": {},
   "outputs": [
    {
     "data": {
      "application/vnd.jupyter.widget-view+json": {
       "model_id": "",
       "version_major": 2,
       "version_minor": 0
      },
      "text/plain": [
       "FloatProgress(value=0.0, bar_style='info', description='Progress:', layout=Layout(height='25px', width='50%'),…"
      ]
     },
     "metadata": {},
     "output_type": "display_data"
    },
    {
     "name": "stdout",
     "output_type": "stream",
     "text": [
      "[Row(col0=8446217, col1='', col2=1555484682000, col3='TJmmqjb1DK9TTZbQXzRQ2AuA94z4gKAPFh', col4='TM6ji3bFcnxrCP6GuiJP4DaoBPBJub8TrL', col5=1e-05, col6='TR7NHqjeKQxGTCi8q8ZY4pL8otSzgjLj6t', col7='', col8='', col9='', col10='', col11='', col12='', col13='', col14='', col15=''), Row(col0=8499154, col1='', col2=1555645530000, col3='TKMaxix87TA3C15wWp1iNV2NgEsQ9m8ms2', col4='TNx5w4MipfSLeh3VUDp81Q7iTjKbqTa8GQ', col5=5e-05, col6='TR7NHqjeKQxGTCi8q8ZY4pL8otSzgjLj6t', col7='', col8='', col9='', col10='', col11='', col12='', col13='', col14='', col15=''), Row(col0=8584606, col1='', col2=1555902801000, col3='TTA2TkJRCqG4sfrwHhGAUnFdXDc2fNQhGj', col4='TFx3kHCfAQebnW9R8e15bJMxdqRz5hZ4RJ', col5=10.0, col6='TR7NHqjeKQxGTCi8q8ZY4pL8otSzgjLj6t', col7='', col8='', col9='', col10='', col11='', col12='', col13='', col14='', col15=''), Row(col0=8600361, col1='', col2=1555950306000, col3='TMDb5UfzKzRVXSVqxTWFYZkJ8RCEZ9gpYj', col4='TNFCcTuCKHg2dP7dfzJuD5cnpqjqP6K5Hm', col5=1e-06, col6='TR7NHqjeKQxGTCi8q8ZY4pL8otSzgjLj6t', col7='', col8='', col9='', col10='', col11='', col12='', col13='', col14='', col15=''), Row(col0=8613279, col1='', col2=1555989162000, col3='TNFCcTuCKHg2dP7dfzJuD5cnpqjqP6K5Hm', col4='TKSKjDogBDNf2gqJQKQKzgvqh9osjHgWtF', col5=0.1008, col6='TR7NHqjeKQxGTCi8q8ZY4pL8otSzgjLj6t', col7='', col8='', col9='', col10='', col11='', col12='', col13='', col14='', col15='')]"
     ]
    }
   ],
   "source": [
    "db_name='neptune'\n",
    "tbl_name='data'\n",
    "dyf = glueContext.create_dynamic_frame.from_catalog(database = db_name, table_name = tbl_name)\n",
    "df = dyf.toDF()\n",
    "df.head(5)"
   ]
  },
  {
   "cell_type": "code",
   "execution_count": 28,
   "id": "greenhouse-alberta",
   "metadata": {},
   "outputs": [
    {
     "data": {
      "application/vnd.jupyter.widget-view+json": {
       "model_id": "",
       "version_major": 2,
       "version_minor": 0
      },
      "text/plain": [
       "FloatProgress(value=0.0, bar_style='info', description='Progress:', layout=Layout(height='25px', width='50%'),…"
      ]
     },
     "metadata": {},
     "output_type": "display_data"
    }
   ],
   "source": [
    "df1 = df.select('col3')\n",
    "df2 = df.select('col4')"
   ]
  },
  {
   "cell_type": "code",
   "execution_count": 33,
   "id": "adult-electronics",
   "metadata": {},
   "outputs": [
    {
     "data": {
      "application/vnd.jupyter.widget-view+json": {
       "model_id": "8f97b1d11e024f2abd7453927e918033",
       "version_major": 2,
       "version_minor": 0
      },
      "text/plain": [
       "FloatProgress(value=0.0, bar_style='info', description='Progress:', layout=Layout(height='25px', width='50%'),…"
      ]
     },
     "metadata": {},
     "output_type": "display_data"
    },
    {
     "name": "stdout",
     "output_type": "stream",
     "text": [
      "5000000"
     ]
    }
   ],
   "source": [
    "df1.count()"
   ]
  },
  {
   "cell_type": "code",
   "execution_count": 29,
   "id": "excellent-weapon",
   "metadata": {},
   "outputs": [
    {
     "data": {
      "application/vnd.jupyter.widget-view+json": {
       "model_id": "",
       "version_major": 2,
       "version_minor": 0
      },
      "text/plain": [
       "FloatProgress(value=0.0, bar_style='info', description='Progress:', layout=Layout(height='25px', width='50%'),…"
      ]
     },
     "metadata": {},
     "output_type": "display_data"
    },
    {
     "name": "stdout",
     "output_type": "stream",
     "text": [
      "root\n",
      " |-- col3: string (nullable = true)"
     ]
    }
   ],
   "source": [
    "df2 = df2.withColumnRenamed('col4','col3')\n",
    "df2.printSchema()"
   ]
  },
  {
   "cell_type": "code",
   "execution_count": 30,
   "id": "hybrid-sally",
   "metadata": {},
   "outputs": [
    {
     "data": {
      "application/vnd.jupyter.widget-view+json": {
       "model_id": "",
       "version_major": 2,
       "version_minor": 0
      },
      "text/plain": [
       "FloatProgress(value=0.0, bar_style='info', description='Progress:', layout=Layout(height='25px', width='50%'),…"
      ]
     },
     "metadata": {},
     "output_type": "display_data"
    }
   ],
   "source": [
    "df_u = df1.union(df2)"
   ]
  },
  {
   "cell_type": "code",
   "execution_count": 9,
   "id": "amended-avenue",
   "metadata": {},
   "outputs": [
    {
     "data": {
      "application/vnd.jupyter.widget-view+json": {
       "model_id": "12a2546f2f2446989697befd20e6a3da",
       "version_major": 2,
       "version_minor": 0
      },
      "text/plain": [
       "FloatProgress(value=0.0, bar_style='info', description='Progress:', layout=Layout(height='25px', width='50%'),…"
      ]
     },
     "metadata": {},
     "output_type": "display_data"
    },
    {
     "name": "stdout",
     "output_type": "stream",
     "text": [
      "10000000"
     ]
    }
   ],
   "source": [
    "df_u.count()"
   ]
  },
  {
   "cell_type": "code",
   "execution_count": 31,
   "id": "referenced-worthy",
   "metadata": {},
   "outputs": [
    {
     "data": {
      "application/vnd.jupyter.widget-view+json": {
       "model_id": "",
       "version_major": 2,
       "version_minor": 0
      },
      "text/plain": [
       "FloatProgress(value=0.0, bar_style='info', description='Progress:', layout=Layout(height='25px', width='50%'),…"
      ]
     },
     "metadata": {},
     "output_type": "display_data"
    },
    {
     "name": "stdout",
     "output_type": "stream",
     "text": [
      "426469"
     ]
    }
   ],
   "source": [
    "df_dis = df_u.distinct()\n",
    "df_dis.count()"
   ]
  },
  {
   "cell_type": "code",
   "execution_count": 29,
   "id": "aboriginal-independence",
   "metadata": {},
   "outputs": [
    {
     "data": {
      "application/vnd.jupyter.widget-view+json": {
       "model_id": "0b7d7e22820b4a1189ebaa317e24af1e",
       "version_major": 2,
       "version_minor": 0
      },
      "text/plain": [
       "FloatProgress(value=0.0, bar_style='info', description='Progress:', layout=Layout(height='25px', width='50%'),…"
      ]
     },
     "metadata": {},
     "output_type": "display_data"
    },
    {
     "name": "stdout",
     "output_type": "stream",
     "text": [
      "[Row(col3='TJmmqjb1DK9TTZbQXzRQ2AuA94z4gKAPFh'), Row(col3='TKMaxix87TA3C15wWp1iNV2NgEsQ9m8ms2'), Row(col3='TTA2TkJRCqG4sfrwHhGAUnFdXDc2fNQhGj'), Row(col3='TMDb5UfzKzRVXSVqxTWFYZkJ8RCEZ9gpYj'), Row(col3='TNFCcTuCKHg2dP7dfzJuD5cnpqjqP6K5Hm'), Row(col3='TKCb8CwT4m36NXsxig2MfCon4rJYnzU7FW'), Row(col3='TKSKjDogBDNf2gqJQKQKzgvqh9osjHgWtF'), Row(col3='TKSKjDogBDNf2gqJQKQKzgvqh9osjHgWtF'), Row(col3='TJyrPWWP3sit856yTCJrd3cg2Uo82aZ7JN'), Row(col3='TJyrPWWP3sit856yTCJrd3cg2Uo82aZ7JN'), Row(col3='TPJxc7u8zjbZeLqAKgbCowifkfRaNxSTAk'), Row(col3='TJyrPWWP3sit856yTCJrd3cg2Uo82aZ7JN'), Row(col3='TKSKjDogBDNf2gqJQKQKzgvqh9osjHgWtF'), Row(col3='TJyrPWWP3sit856yTCJrd3cg2Uo82aZ7JN'), Row(col3='TJTXeR77cXxRci9wDzSc77bppbs4h76XMo'), Row(col3='TJTXeR77cXxRci9wDzSc77bppbs4h76XMo'), Row(col3='TJTXeR77cXxRci9wDzSc77bppbs4h76XMo'), Row(col3='TKSKjDogBDNf2gqJQKQKzgvqh9osjHgWtF'), Row(col3='TGKwjZG77AtrxNSduXVYSPbt3bUZW78NCy'), Row(col3='TKCb8CwT4m36NXsxig2MfCon4rJYnzU7FW'), Row(col3='TRxMaG7CwSfZdfho9KXtayDJUQEvvoCeKo'), Row(col3='TRxMaG7CwSfZdfho9KXtayDJUQEvvoCeKo'), Row(col3='TDzYpKB5Mj2o52kGp9vBC4r5JstJje99Ua'), Row(col3='TKCb8CwT4m36NXsxig2MfCon4rJYnzU7FW'), Row(col3='TCocZPBUEGBMR7BNE3uZ8NwseAYBFxfiLB'), Row(col3='TDon4St8TssETvgc8RmsH9v86trMvsAP2j'), Row(col3='TXrP77p9nhnqXbhrGD7AqaCxWDUwJP9thD'), Row(col3='TMBbpJWCkCYThZy9HvZgUXf6E8cqHdJ2Yq'), Row(col3='TVp3vwd22UxsnWAU42DEq1Q2gUoxzECZKn'), Row(col3='TFydx1ii5uEtTJBaSf3DYhFdD9Q2xpwx4w'), Row(col3='TABZdqkVVvk5sDWFYdDq4gmypFrZQ3YkS3'), Row(col3='TABZdqkVVvk5sDWFYdDq4gmypFrZQ3YkS3'), Row(col3='THPvaUhoh2Qn2y9THCZML3H815hhFhn5YC'), Row(col3='THqzZaRNsRy1iMFaSNWkQiKx6HM7pYntsn'), Row(col3='TRxMaG7CwSfZdfho9KXtayDJUQEvvoCeKo'), Row(col3='TBYoCj2iZKVadQKNF5JiNQHfkXmxkRBpyL'), Row(col3='TDnUofzQivGYbsQtFjyzWN2DB8Xk7xTsJQ'), Row(col3='TDnUofzQivGYbsQtFjyzWN2DB8Xk7xTsJQ'), Row(col3='TDnUofzQivGYbsQtFjyzWN2DB8Xk7xTsJQ'), Row(col3='TCgnJmYmMUJ9eS6x62Vj7YFfpBM1DTL8V8'), Row(col3='TDnUofzQivGYbsQtFjyzWN2DB8Xk7xTsJQ'), Row(col3='TDnUofzQivGYbsQtFjyzWN2DB8Xk7xTsJQ'), Row(col3='TCgnJmYmMUJ9eS6x62Vj7YFfpBM1DTL8V8'), Row(col3='TDnUofzQivGYbsQtFjyzWN2DB8Xk7xTsJQ'), Row(col3='TMqz7jgzfC3h9YbWe9LL2TLpVhKfv3QJj4'), Row(col3='TDnUofzQivGYbsQtFjyzWN2DB8Xk7xTsJQ'), Row(col3='TCgnJmYmMUJ9eS6x62Vj7YFfpBM1DTL8V8'), Row(col3='TCgnJmYmMUJ9eS6x62Vj7YFfpBM1DTL8V8'), Row(col3='TCgnJmYmMUJ9eS6x62Vj7YFfpBM1DTL8V8'), Row(col3='TCgnJmYmMUJ9eS6x62Vj7YFfpBM1DTL8V8'), Row(col3='TCgnJmYmMUJ9eS6x62Vj7YFfpBM1DTL8V8'), Row(col3='TEdb9oHagEfR1ZpDcJmesVXxfS6qcUY28V'), Row(col3='TEdb9oHagEfR1ZpDcJmesVXxfS6qcUY28V'), Row(col3='TCgnJmYmMUJ9eS6x62Vj7YFfpBM1DTL8V8'), Row(col3='TC2sUry5TLms6BatkDf8PN6To4x2RcQsBV'), Row(col3='TB3EKXviXrwiokaPpc8FoM6XfEaHfAqyCF'), Row(col3='TLwYiCyvdpNwD5kxiGqjFjLFRADHtC7jU6'), Row(col3='TDnUofzQivGYbsQtFjyzWN2DB8Xk7xTsJQ'), Row(col3='TWSJyLtdZDVvqGJcdcJ2HcxGd2ynpEnL2e'), Row(col3='TCgnJmYmMUJ9eS6x62Vj7YFfpBM1DTL8V8'), Row(col3='TCgnJmYmMUJ9eS6x62Vj7YFfpBM1DTL8V8'), Row(col3='TCgnJmYmMUJ9eS6x62Vj7YFfpBM1DTL8V8'), Row(col3='TDnUofzQivGYbsQtFjyzWN2DB8Xk7xTsJQ'), Row(col3='TEpC1DGvDdfrDf83JZDUzdNZydeHz9w21H'), Row(col3='TNatfgaG9KfiHMAtzVftcWuEb2VWfoanb9'), Row(col3='TCgnJmYmMUJ9eS6x62Vj7YFfpBM1DTL8V8'), Row(col3='TCgnJmYmMUJ9eS6x62Vj7YFfpBM1DTL8V8'), Row(col3='TXafoVTiVdbCTSRHDEmisB6uerpCJfc6iW'), Row(col3='TEpC1DGvDdfrDf83JZDUzdNZydeHz9w21H'), Row(col3='TDnUofzQivGYbsQtFjyzWN2DB8Xk7xTsJQ'), Row(col3='TAxvZppVRMshNVG3bkGqr6aYbSQvjYD9P6'), Row(col3='TEpC1DGvDdfrDf83JZDUzdNZydeHz9w21H'), Row(col3='TCgnJmYmMUJ9eS6x62Vj7YFfpBM1DTL8V8'), Row(col3='TB3EKXviXrwiokaPpc8FoM6XfEaHfAqyCF'), Row(col3='TCgnJmYmMUJ9eS6x62Vj7YFfpBM1DTL8V8'), Row(col3='TEpC1DGvDdfrDf83JZDUzdNZydeHz9w21H'), Row(col3='TEpC1DGvDdfrDf83JZDUzdNZydeHz9w21H'), Row(col3='TPPwreC61fp5ZmyT7mVaPHjDRTzNFNApiu'), Row(col3='TPPwreC61fp5ZmyT7mVaPHjDRTzNFNApiu'), Row(col3='TEpC1DGvDdfrDf83JZDUzdNZydeHz9w21H'), Row(col3='TPPwreC61fp5ZmyT7mVaPHjDRTzNFNApiu'), Row(col3='TEpC1DGvDdfrDf83JZDUzdNZydeHz9w21H'), Row(col3='TEpC1DGvDdfrDf83JZDUzdNZydeHz9w21H'), Row(col3='TPPwreC61fp5ZmyT7mVaPHjDRTzNFNApiu'), Row(col3='TEpC1DGvDdfrDf83JZDUzdNZydeHz9w21H'), Row(col3='TPPwreC61fp5ZmyT7mVaPHjDRTzNFNApiu'), Row(col3='TEpC1DGvDdfrDf83JZDUzdNZydeHz9w21H'), Row(col3='TEpC1DGvDdfrDf83JZDUzdNZydeHz9w21H'), Row(col3='TPPwreC61fp5ZmyT7mVaPHjDRTzNFNApiu'), Row(col3='TEpC1DGvDdfrDf83JZDUzdNZydeHz9w21H'), Row(col3='TEpC1DGvDdfrDf83JZDUzdNZydeHz9w21H'), Row(col3='TDnUofzQivGYbsQtFjyzWN2DB8Xk7xTsJQ'), Row(col3='TJ2DsrmWA2kLWJR5AnJrxQBqNymYSzpEwG'), Row(col3='TPPwreC61fp5ZmyT7mVaPHjDRTzNFNApiu'), Row(col3='TEpC1DGvDdfrDf83JZDUzdNZydeHz9w21H'), Row(col3='TEpC1DGvDdfrDf83JZDUzdNZydeHz9w21H'), Row(col3='TCgnJmYmMUJ9eS6x62Vj7YFfpBM1DTL8V8'), Row(col3='TPPwreC61fp5ZmyT7mVaPHjDRTzNFNApiu'), Row(col3='TPPwreC61fp5ZmyT7mVaPHjDRTzNFNApiu'), Row(col3='TEpC1DGvDdfrDf83JZDUzdNZydeHz9w21H')]"
     ]
    }
   ],
   "source": [
    "df_u.head(100)"
   ]
  },
  {
   "cell_type": "code",
   "execution_count": 32,
   "id": "detected-delivery",
   "metadata": {},
   "outputs": [
    {
     "data": {
      "application/vnd.jupyter.widget-view+json": {
       "model_id": "",
       "version_major": 2,
       "version_minor": 0
      },
      "text/plain": [
       "FloatProgress(value=0.0, bar_style='info', description='Progress:', layout=Layout(height='25px', width='50%'),…"
      ]
     },
     "metadata": {},
     "output_type": "display_data"
    }
   ],
   "source": [
    "df_node_label = glueContext.create_dynamic_frame.from_catalog(database = db_name, table_name = 'node_add')"
   ]
  },
  {
   "cell_type": "code",
   "execution_count": 33,
   "id": "certain-cargo",
   "metadata": {},
   "outputs": [
    {
     "data": {
      "application/vnd.jupyter.widget-view+json": {
       "model_id": "",
       "version_major": 2,
       "version_minor": 0
      },
      "text/plain": [
       "FloatProgress(value=0.0, bar_style='info', description='Progress:', layout=Layout(height='25px', width='50%'),…"
      ]
     },
     "metadata": {},
     "output_type": "display_data"
    },
    {
     "name": "stdout",
     "output_type": "stream",
     "text": [
      "root\n",
      "|-- address:id: string\n",
      "|-- exchange: string\n",
      "|-- :label: string"
     ]
    }
   ],
   "source": [
    "df_node_label.printSchema()"
   ]
  },
  {
   "cell_type": "code",
   "execution_count": 34,
   "id": "fluid-elephant",
   "metadata": {},
   "outputs": [
    {
     "data": {
      "application/vnd.jupyter.widget-view+json": {
       "model_id": "",
       "version_major": 2,
       "version_minor": 0
      },
      "text/plain": [
       "FloatProgress(value=0.0, bar_style='info', description='Progress:', layout=Layout(height='25px', width='50%'),…"
      ]
     },
     "metadata": {},
     "output_type": "display_data"
    }
   ],
   "source": [
    "df_node_label = df_node_label.toDF()"
   ]
  },
  {
   "cell_type": "code",
   "execution_count": 35,
   "id": "bizarre-incidence",
   "metadata": {},
   "outputs": [
    {
     "data": {
      "application/vnd.jupyter.widget-view+json": {
       "model_id": "",
       "version_major": 2,
       "version_minor": 0
      },
      "text/plain": [
       "FloatProgress(value=0.0, bar_style='info', description='Progress:', layout=Layout(height='25px', width='50%'),…"
      ]
     },
     "metadata": {},
     "output_type": "display_data"
    }
   ],
   "source": [
    "df_left = df_dis.join(df_node_label, df_dis.col3 == df_node_label['address:id'],how='left')"
   ]
  },
  {
   "cell_type": "code",
   "execution_count": 36,
   "id": "turkish-chase",
   "metadata": {},
   "outputs": [
    {
     "data": {
      "application/vnd.jupyter.widget-view+json": {
       "model_id": "",
       "version_major": 2,
       "version_minor": 0
      },
      "text/plain": [
       "FloatProgress(value=0.0, bar_style='info', description='Progress:', layout=Layout(height='25px', width='50%'),…"
      ]
     },
     "metadata": {},
     "output_type": "display_data"
    }
   ],
   "source": [
    "df_left = df_left.withColumnRenamed(':label','~label').withColumnRenamed('col3','~id')"
   ]
  },
  {
   "cell_type": "code",
   "execution_count": 48,
   "id": "located-sunglasses",
   "metadata": {},
   "outputs": [
    {
     "data": {
      "application/vnd.jupyter.widget-view+json": {
       "model_id": "",
       "version_major": 2,
       "version_minor": 0
      },
      "text/plain": [
       "FloatProgress(value=0.0, bar_style='info', description='Progress:', layout=Layout(height='25px', width='50%'),…"
      ]
     },
     "metadata": {},
     "output_type": "display_data"
    },
    {
     "name": "stdout",
     "output_type": "stream",
     "text": [
      "root\n",
      " |-- ~id: string (nullable = true)\n",
      " |-- ~label: string (nullable = true)\n",
      " |-- name:String: string (nullable = true)\n",
      " |-- address_type:String: string (nullable = true)"
     ]
    }
   ],
   "source": [
    "from pyspark.sql.functions import col,lit,when,length\n",
    "df_fine_tmp = df_left.select(col('~id'),col('~label'),col('~id').alias('name:String'))\n",
    "df_fine = df_fine_tmp.withColumn('address_type:String', when(length('~label') > 8,'Exchange').otherwise(col('~label')))\n",
    "df_fine.printSchema()"
   ]
  },
  {
   "cell_type": "code",
   "execution_count": 51,
   "id": "partial-printer",
   "metadata": {},
   "outputs": [
    {
     "data": {
      "application/vnd.jupyter.widget-view+json": {
       "model_id": "",
       "version_major": 2,
       "version_minor": 0
      },
      "text/plain": [
       "FloatProgress(value=0.0, bar_style='info', description='Progress:', layout=Layout(height='25px', width='50%'),…"
      ]
     },
     "metadata": {},
     "output_type": "display_data"
    },
    {
     "name": "stdout",
     "output_type": "stream",
     "text": [
      "+-------------------+\n",
      "|address_type:String|\n",
      "+-------------------+\n",
      "|               null|\n",
      "|            Address|\n",
      "|           Exchange|\n",
      "+-------------------+"
     ]
    }
   ],
   "source": [
    "df_fine.select('address_type:String').distinct().show()"
   ]
  },
  {
   "cell_type": "code",
   "execution_count": 52,
   "id": "catholic-rainbow",
   "metadata": {},
   "outputs": [
    {
     "data": {
      "application/vnd.jupyter.widget-view+json": {
       "model_id": "",
       "version_major": 2,
       "version_minor": 0
      },
      "text/plain": [
       "FloatProgress(value=0.0, bar_style='info', description='Progress:', layout=Layout(height='25px', width='50%'),…"
      ]
     },
     "metadata": {},
     "output_type": "display_data"
    }
   ],
   "source": [
    "from awsglue.dynamicframe import DynamicFrame\n",
    "dyf_fine = DynamicFrame.fromDF(df_fine, glueContext, \"dyf_fine\")"
   ]
  },
  {
   "cell_type": "code",
   "execution_count": 53,
   "id": "informed-kuwait",
   "metadata": {},
   "outputs": [
    {
     "data": {
      "application/vnd.jupyter.widget-view+json": {
       "model_id": "",
       "version_major": 2,
       "version_minor": 0
      },
      "text/plain": [
       "FloatProgress(value=0.0, bar_style='info', description='Progress:', layout=Layout(height='25px', width='50%'),…"
      ]
     },
     "metadata": {},
     "output_type": "display_data"
    },
    {
     "name": "stdout",
     "output_type": "stream",
     "text": [
      "root\n",
      "|-- ~id: string\n",
      "|-- ~label: string\n",
      "|-- name:String: string\n",
      "|-- address_type:String: string"
     ]
    }
   ],
   "source": [
    "dyf_fine = dyf_fine.coalesce(1)\n",
    "dyf_fine.printSchema()"
   ]
  },
  {
   "cell_type": "code",
   "execution_count": 54,
   "id": "naval-terrorism",
   "metadata": {},
   "outputs": [
    {
     "data": {
      "application/vnd.jupyter.widget-view+json": {
       "model_id": "",
       "version_major": 2,
       "version_minor": 0
      },
      "text/plain": [
       "FloatProgress(value=0.0, bar_style='info', description='Progress:', layout=Layout(height='25px', width='50%'),…"
      ]
     },
     "metadata": {},
     "output_type": "display_data"
    }
   ],
   "source": [
    "datasink5_eth = glueContext.write_dynamic_frame.from_options(frame = dyf_fine, connection_type = \"s3\", connection_options = {\"path\": \"s3://ai-datalab-sunbiao/nepdata\"}, format = \"csv\", transformation_ctx = \"datasink5_eth\")"
   ]
  },
  {
   "cell_type": "code",
   "execution_count": 55,
   "id": "wrapped-weekly",
   "metadata": {},
   "outputs": [
    {
     "data": {
      "application/vnd.jupyter.widget-view+json": {
       "model_id": "",
       "version_major": 2,
       "version_minor": 0
      },
      "text/plain": [
       "FloatProgress(value=0.0, bar_style='info', description='Progress:', layout=Layout(height='25px', width='50%'),…"
      ]
     },
     "metadata": {},
     "output_type": "display_data"
    }
   ],
   "source": [
    "job.commit()"
   ]
  },
  {
   "cell_type": "code",
   "execution_count": 30,
   "id": "beautiful-debut",
   "metadata": {},
   "outputs": [
    {
     "data": {
      "application/vnd.jupyter.widget-view+json": {
       "model_id": "8ab36476951b4236b95954cc1fc755cb",
       "version_major": 2,
       "version_minor": 0
      },
      "text/plain": [
       "FloatProgress(value=0.0, bar_style='info', description='Progress:', layout=Layout(height='25px', width='50%'),…"
      ]
     },
     "metadata": {},
     "output_type": "display_data"
    },
    {
     "name": "stdout",
     "output_type": "stream",
     "text": [
      "[Row(~id='TAwxMCmWNq86dTGrN6aqVVh84VYm9ymEmG', ~label='Address', name:String='TAwxMCmWNq86dTGrN6aqVVh84VYm9ymEmG', address_type:String='Address'), Row(~id='TBvaXJ6M8PUBRwoMkHs519x2gYSaVXGmqY', ~label='Address', name:String='TBvaXJ6M8PUBRwoMkHs519x2gYSaVXGmqY', address_type:String='Address'), Row(~id='TBw1impxvQdWBXtGPVa2LipynNuff5ZEWi', ~label='Address', name:String='TBw1impxvQdWBXtGPVa2LipynNuff5ZEWi', address_type:String='Address'), Row(~id='TBz7cPxSRkE8xgEvxzGxx1k8UngvGotmBJ', ~label='Address;Exchange', name:String='TBz7cPxSRkE8xgEvxzGxx1k8UngvGotmBJ', address_type:String='Address;Exchange'), Row(~id='TC9ovn3p9fqMUwLAq6tLxMoSijNpC5YpdA', ~label='Address;Exchange', name:String='TC9ovn3p9fqMUwLAq6tLxMoSijNpC5YpdA', address_type:String='Address;Exchange'), Row(~id='TCCwqZg9bcENTTANfM1op7CH3Hg93i26Xd', ~label='Address', name:String='TCCwqZg9bcENTTANfM1op7CH3Hg93i26Xd', address_type:String='Address'), Row(~id='TCbUNM8zPWqf7Can9aYR6qkRFUDh1NjF2S', ~label='Address;Exchange', name:String='TCbUNM8zPWqf7Can9aYR6qkRFUDh1NjF2S', address_type:String='Address;Exchange'), Row(~id='TD8HUdfxXk6nLu1wuY5XhVoA5X4c9VbwB8', ~label='Address', name:String='TD8HUdfxXk6nLu1wuY5XhVoA5X4c9VbwB8', address_type:String='Address'), Row(~id='TDRzLNeQktNw3yyaemZ85Trch8ThpqhyQc', ~label='Address', name:String='TDRzLNeQktNw3yyaemZ85Trch8ThpqhyQc', address_type:String='Address'), Row(~id='TDZTrzgMceABChwCiz1sXwu24mhCDPaXG4', ~label='Address;Exchange', name:String='TDZTrzgMceABChwCiz1sXwu24mhCDPaXG4', address_type:String='Address;Exchange')]"
     ]
    }
   ],
   "source": [
    "df_fine[df_fine['address_type:String'].isNotNull()].head(10)"
   ]
  },
  {
   "cell_type": "markdown",
   "id": "opponent-replacement",
   "metadata": {},
   "source": [
    "-------------------------------edges----------------"
   ]
  },
  {
   "cell_type": "code",
   "execution_count": 27,
   "id": "temporal-assist",
   "metadata": {},
   "outputs": [
    {
     "data": {
      "application/vnd.jupyter.widget-view+json": {
       "model_id": "7f0fd26690df4a279fd645e0515d7391",
       "version_major": 2,
       "version_minor": 0
      },
      "text/plain": [
       "FloatProgress(value=0.0, bar_style='info', description='Progress:', layout=Layout(height='25px', width='50%'),…"
      ]
     },
     "metadata": {},
     "output_type": "display_data"
    },
    {
     "name": "stdout",
     "output_type": "stream",
     "text": [
      "root\n",
      " |-- col3: string (nullable = true)\n",
      " |-- col4: string (nullable = true)\n",
      " |-- col5: double (nullable = true)\n",
      "\n",
      "[Row(~id='TJhSBtvbBAJ9cV7YybWE2WCMEqrdu7798R-TKEFWuWwssfmAtNiR4XmhbGT4T6t5cfPWi', ~from='TJhSBtvbBAJ9cV7YybWE2WCMEqrdu7798R', ~to='TKEFWuWwssfmAtNiR4XmhbGT4T6t5cfPWi', ~label='payto', weight:Double=1.9080599999999999), Row(~id='TB3EKXviXrwiokaPpc8FoM6XfEaHfAqyCF-TA5AfafrgpPQCo7Pzs2rYqpuijJiFAY2H5', ~from='TB3EKXviXrwiokaPpc8FoM6XfEaHfAqyCF', ~to='TA5AfafrgpPQCo7Pzs2rYqpuijJiFAY2H5', ~label='payto', weight:Double=1.598018), Row(~id='TU6LHXk4F4ZsXwpBtiCvS8U6G5NF4DMVwt-TYqMVJJX3LhYEm4DdSsEAfEg3nK7PNjWnV', ~from='TU6LHXk4F4ZsXwpBtiCvS8U6G5NF4DMVwt', ~to='TYqMVJJX3LhYEm4DdSsEAfEg3nK7PNjWnV', ~label='payto', weight:Double=511.373), Row(~id='THN9YkeSQiV5AmUuN5V9hrajdqHyr8mm22-TGdzVkhje1jYW1YjyDcXqghd1Zwhm8pwnD', ~from='THN9YkeSQiV5AmUuN5V9hrajdqHyr8mm22', ~to='TGdzVkhje1jYW1YjyDcXqghd1Zwhm8pwnD', ~label='payto', weight:Double=0.04), Row(~id='TB4oXR1T7BQ6yVeVBuESMrLhgL3V4XSCg7-TU6E33A3mSccQt8HFDhSaPBQxLB86Cco6y', ~from='TB4oXR1T7BQ6yVeVBuESMrLhgL3V4XSCg7', ~to='TU6E33A3mSccQt8HFDhSaPBQxLB86Cco6y', ~label='payto', weight:Double=0.05759200000000001)]"
     ]
    }
   ],
   "source": [
    "from pyspark.sql.functions import sum as _sum\n",
    "from pyspark.sql.functions import concat_ws,col,lit,when\n",
    "df_edge_raw = df.select('col3','col4','col5')\n",
    "df_edge_raw.printSchema()\n",
    "df_edge_agg = df_edge_raw.groupBy('col3','col4').agg(_sum('col5').alias('weight:Double')).withColumnRenamed('col3','~from').withColumnRenamed('col4','~to').withColumn('~label',lit('payto'))\n",
    "\n",
    "df_edge_agg_withid = df_edge_agg.select(concat_ws('-',df_edge_agg['~from'],df_edge_agg['~to']).alias(\"~id\"),'~from','~to','~label','weight:Double')\n",
    "df_edge_agg_withid.head(5)"
   ]
  },
  {
   "cell_type": "code",
   "execution_count": 28,
   "id": "modified-hacker",
   "metadata": {},
   "outputs": [
    {
     "data": {
      "application/vnd.jupyter.widget-view+json": {
       "model_id": "11731959b16d40deb24a17ba6cc277a7",
       "version_major": 2,
       "version_minor": 0
      },
      "text/plain": [
       "FloatProgress(value=0.0, bar_style='info', description='Progress:', layout=Layout(height='25px', width='50%'),…"
      ]
     },
     "metadata": {},
     "output_type": "display_data"
    }
   ],
   "source": [
    "from awsglue.dynamicframe import DynamicFrame\n",
    "dyf_edge_agg_withid = DynamicFrame.fromDF(df_edge_agg_withid, glueContext, \"dyf_edge_agg_withid\")\n"
   ]
  },
  {
   "cell_type": "code",
   "execution_count": 30,
   "id": "neither-architect",
   "metadata": {},
   "outputs": [
    {
     "data": {
      "application/vnd.jupyter.widget-view+json": {
       "model_id": "c5ca70f857164b0a8c146d3daba1a3aa",
       "version_major": 2,
       "version_minor": 0
      },
      "text/plain": [
       "FloatProgress(value=0.0, bar_style='info', description='Progress:', layout=Layout(height='25px', width='50%'),…"
      ]
     },
     "metadata": {},
     "output_type": "display_data"
    }
   ],
   "source": [
    "dyf_fine_par = dyf_edge_agg_withid.coalesce(1)\n",
    "datasink6_eth = glueContext.write_dynamic_frame.from_options(frame = dyf_fine_par, connection_type = \"s3\", connection_options = {\"path\": \"s3://ai-datalab-sunbiao/nepdata\"}, format = \"csv\", transformation_ctx = \"datasink6_eth\")"
   ]
  },
  {
   "cell_type": "code",
   "execution_count": 31,
   "id": "competitive-killing",
   "metadata": {},
   "outputs": [
    {
     "data": {
      "application/vnd.jupyter.widget-view+json": {
       "model_id": "a192b825bd564176863d2f272a6a66ab",
       "version_major": 2,
       "version_minor": 0
      },
      "text/plain": [
       "FloatProgress(value=0.0, bar_style='info', description='Progress:', layout=Layout(height='25px', width='50%'),…"
      ]
     },
     "metadata": {},
     "output_type": "display_data"
    }
   ],
   "source": [
    "job.commit()"
   ]
  },
  {
   "cell_type": "code",
   "execution_count": 29,
   "id": "confused-dover",
   "metadata": {},
   "outputs": [
    {
     "data": {
      "application/vnd.jupyter.widget-view+json": {
       "model_id": "db497fa8f5024579bd9680b880f2d543",
       "version_major": 2,
       "version_minor": 0
      },
      "text/plain": [
       "FloatProgress(value=0.0, bar_style='info', description='Progress:', layout=Layout(height='25px', width='50%'),…"
      ]
     },
     "metadata": {},
     "output_type": "display_data"
    },
    {
     "name": "stdout",
     "output_type": "stream",
     "text": [
      "root\n",
      " |-- ~id: string (nullable = false)\n",
      " |-- ~from: string (nullable = true)\n",
      " |-- ~to: string (nullable = true)\n",
      " |-- ~label: string (nullable = false)\n",
      " |-- weight:Double: double (nullable = true)"
     ]
    }
   ],
   "source": [
    "df_edge_agg_withid.printSchema()"
   ]
  },
  {
   "cell_type": "code",
   "execution_count": null,
   "id": "viral-paraguay",
   "metadata": {},
   "outputs": [],
   "source": []
  }
 ],
 "metadata": {
  "kernelspec": {
   "display_name": "Sparkmagic (PySpark)",
   "language": "python",
   "name": "pysparkkernel"
  },
  "language_info": {
   "codemirror_mode": {
    "name": "python",
    "version": 3
   },
   "file_extension": ".py",
   "mimetype": "text/x-python",
   "name": "pyspark",
   "pygments_lexer": "python3"
  }
 },
 "nbformat": 4,
 "nbformat_minor": 5
}
